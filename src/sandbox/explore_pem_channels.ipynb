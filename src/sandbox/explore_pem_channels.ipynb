{
 "cells": [
  {
   "cell_type": "code",
   "execution_count": 6,
   "metadata": {},
   "outputs": [],
   "source": [
    "from gwpy.timeseries import TimeSeriesDict, TimeSeries\n",
    "import pandas as pd\n",
    "import sys\n",
    "import numpy as np"
   ]
  },
  {
   "cell_type": "code",
   "execution_count": 9,
   "metadata": {},
   "outputs": [],
   "source": [
    "pem = 'L1:PEM-CS_MAINSMON_EBAY_1_DQ'\n",
    "\n",
    "\n",
    "#Selelct some times from the O3 segments\n",
    "df = pd.read_csv('../../data/L1-O3a-segments.csv',header=None)\n",
    "i = 0\n",
    "t0 = df.iloc[i][0]\n",
    "t1 = t0 + (10*60)# 10 mins later\n",
    "\n",
    "#acc   = TimeSeries.get(pem,start=t0, end=t1,host='losc-nds.ligo.org')\n",
    "\n",
    "\n",
    "\n"
   ]
  },
  {
   "cell_type": "code",
   "execution_count": 10,
   "metadata": {},
   "outputs": [
    {
     "data": {
      "text/plain": [
       "1238166018"
      ]
     },
     "execution_count": 10,
     "metadata": {},
     "output_type": "execute_result"
    }
   ],
   "source": [
    "t0 "
   ]
  },
  {
   "cell_type": "code",
   "execution_count": 8,
   "metadata": {},
   "outputs": [
    {
     "ename": "NameError",
     "evalue": "name 'acc' is not defined",
     "output_type": "error",
     "traceback": [
      "\u001b[0;31m---------------------------------------------------------------------------\u001b[0m",
      "\u001b[0;31mNameError\u001b[0m                                 Traceback (most recent call last)",
      "\u001b[1;32m/Users/t1/github_repos/LIGO_ANC/src/sandbox/explore_pem_channels.ipynb Cell 3\u001b[0m line \u001b[0;36m1\n\u001b[0;32m----> <a href='vscode-notebook-cell:/Users/t1/github_repos/LIGO_ANC/src/sandbox/explore_pem_channels.ipynb#W2sZmlsZQ%3D%3D?line=0'>1</a>\u001b[0m acc \n",
      "\u001b[0;31mNameError\u001b[0m: name 'acc' is not defined"
     ]
    }
   ],
   "source": [
    "acc "
   ]
  },
  {
   "cell_type": "code",
   "execution_count": null,
   "metadata": {},
   "outputs": [
    {
     "name": "stderr",
     "output_type": "stream",
     "text": [
      "error detail: SASL(-1): generic failure: GSSAPI Error: No credentials were supplied, or the credentials were unavailable or inaccessible (No Kerberos credentials available (default cache: KCM:))\n",
      "/Users/t1/miniconda3/envs/LIGO_ANC/lib/python3.9/site-packages/gwpy/io/nds2.py:344: NDSWarning: Error authenticating against nds.ligo.caltech.edu:31200\n",
      "  warnings.warn(f\"Error authenticating against {host}:{port}\", NDSWarning)\n"
     ]
    },
    {
     "name": "stdout",
     "output_type": "stream",
     "text": [
      "Kerberos ticket generated for tom.kimpson@LIGO.ORG\n"
     ]
    }
   ],
   "source": [
    "\n",
    "data = TimeSeries.get('H1:GDS-CALIB_STRAIN', 1126259446, 1126259478)\n"
   ]
  },
  {
   "cell_type": "code",
   "execution_count": null,
   "metadata": {},
   "outputs": [
    {
     "data": {
      "text/latex": [
       "$[3.0223449 \\times 10^{-19},~3.1751954 \\times 10^{-19},~3.0132954 \\times 10^{-19},~\\dots,~-1.3366654 \\times 10^{-19},~-1.3877717 \\times 10^{-19},~-1.3185681 \\times 10^{-19}] \\; \\mathrm{strain}$"
      ],
      "text/plain": [
       "<TimeSeries([ 3.02234488e-19,  3.17519543e-19,  3.01329537e-19,\n",
       "             ..., -1.33666536e-19, -1.38777172e-19,\n",
       "             -1.31856806e-19]\n",
       "            unit=Unit(\"strain\"),\n",
       "            t0=<Quantity 1.12625945e+09 s>,\n",
       "            dt=<Quantity 6.10351562e-05 s>,\n",
       "            name='H1:GDS-CALIB_STRAIN',\n",
       "            channel=<Channel(\"H1:GDS-CALIB_STRAIN\" [reduced], 16384.0 Hz) at 0x7fb25980b760>)>"
      ]
     },
     "execution_count": 3,
     "metadata": {},
     "output_type": "execute_result"
    }
   ],
   "source": [
    "data "
   ]
  },
  {
   "cell_type": "code",
   "execution_count": null,
   "metadata": {},
   "outputs": [
    {
     "name": "stderr",
     "output_type": "stream",
     "text": [
      "/Users/t1/miniconda3/envs/LIGO_ANC/lib/python3.9/site-packages/gwpy/timeseries/core.py:1144: NDSWarning: failed to fetch data for L1:PEM-CS_MAINSMON_EBAY_1_DQ in interval [1126259446, 1126260046): Low level daq error occured [26]: Requested data is on tape\n",
      "  warnings.warn(\n",
      "/Users/t1/miniconda3/envs/LIGO_ANC/lib/python3.9/site-packages/gwpy/timeseries/core.py:1144: NDSWarning: failed to fetch data for L1:PEM-CS_MAINSMON_EBAY_1_DQ in interval [1126259446, 1126260046): Low level daq error occured [26]: Requested data is on tape\n",
      "  warnings.warn(\n"
     ]
    }
   ],
   "source": [
    "from gwpy.timeseries import TimeSeriesDict, TimeSeries\n",
    "\n",
    "t0 = 1126259446\n",
    "t1 = t0 + (10*60)\n",
    "pem = 'L1:PEM-CS_MAINSMON_EBAY_1_DQ'\n",
    "data = TimeSeries.get(pem,t0,t1)\n"
   ]
  },
  {
   "cell_type": "code",
   "execution_count": null,
   "metadata": {},
   "outputs": [],
   "source": [
    "L1:PEM-EX_MAINSMON_EBAY_1_DQ"
   ]
  }
 ],
 "metadata": {
  "kernelspec": {
   "display_name": "LIGO_ANC",
   "language": "python",
   "name": "python3"
  },
  "language_info": {
   "codemirror_mode": {
    "name": "ipython",
    "version": 3
   },
   "file_extension": ".py",
   "mimetype": "text/x-python",
   "name": "python",
   "nbconvert_exporter": "python",
   "pygments_lexer": "ipython3",
   "version": "3.9.16"
  },
  "orig_nbformat": 4
 },
 "nbformat": 4,
 "nbformat_minor": 2
}
