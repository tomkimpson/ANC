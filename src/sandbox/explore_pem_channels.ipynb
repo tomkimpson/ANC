{
 "cells": [
  {
   "cell_type": "code",
   "execution_count": 1,
   "metadata": {},
   "outputs": [],
   "source": [
    "from gwpy.timeseries import TimeSeriesDict, TimeSeries\n",
    "import pandas as pd\n",
    "import sys\n",
    "import numpy as np"
   ]
  },
  {
   "cell_type": "code",
   "execution_count": 2,
   "metadata": {},
   "outputs": [],
   "source": [
    "pem = 'L1:PEM-CS_MAINSMON_EBAY_1_DQ'\n",
    "\n",
    "\n",
    "#Selelct some times from the O3 segments\n",
    "df = pd.read_csv('../../data/L1-O3a-segments.csv',header=None)\n",
    "i = 0\n",
    "t0 = df.iloc[i][0]\n",
    "t1 = t0 + (10*60)# 10 mins later\n",
    "\n",
    "acc   = TimeSeries.get(pem,start=t0, end=t1,host='losc-nds.ligo.org')\n",
    "\n",
    "\n",
    "\n"
   ]
  },
  {
   "cell_type": "code",
   "execution_count": 3,
   "metadata": {},
   "outputs": [
    {
     "data": {
      "text/latex": [
       "$[126.4277,~-740.5882,~-1650.4933,~\\dots,~-17.085093,~849.35693,~1737.0087] \\; \\mathrm{ct}$"
      ],
      "text/plain": [
       "<TimeSeries([  126.4277  ,  -740.5882  , -1650.4933  , ...,\n",
       "               -17.085093,   849.35693 ,  1737.0087  ]\n",
       "            unit=Unit(\"ct\"),\n",
       "            t0=<Quantity 1.23816602e+09 s>,\n",
       "            dt=<Quantity 0.00097656 s>,\n",
       "            name='L1:PEM-CS_MAINSMON_EBAY_1_DQ',\n",
       "            channel=<Channel(\"L1:PEM-CS_MAINSMON_EBAY_1_DQ\" [reduced], 1024.0 Hz) at 0x7f961194f1f0>)>"
      ]
     },
     "execution_count": 3,
     "metadata": {},
     "output_type": "execute_result"
    }
   ],
   "source": [
    "acc "
   ]
  },
  {
   "cell_type": "code",
   "execution_count": null,
   "metadata": {},
   "outputs": [],
   "source": []
  }
 ],
 "metadata": {
  "kernelspec": {
   "display_name": "LIGO_ANC",
   "language": "python",
   "name": "python3"
  },
  "language_info": {
   "codemirror_mode": {
    "name": "ipython",
    "version": 3
   },
   "file_extension": ".py",
   "mimetype": "text/x-python",
   "name": "python",
   "nbconvert_exporter": "python",
   "pygments_lexer": "ipython3",
   "version": "3.9.16"
  },
  "orig_nbformat": 4
 },
 "nbformat": 4,
 "nbformat_minor": 2
}
