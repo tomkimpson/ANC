{
 "cells": [
  {
   "cell_type": "code",
   "execution_count": 2,
   "metadata": {},
   "outputs": [],
   "source": [
    "from gwpy.timeseries import TimeSeriesDict, TimeSeries\n",
    "import pandas as pd\n",
    "import sys\n",
    "import numpy as np"
   ]
  },
  {
   "cell_type": "markdown",
   "metadata": {},
   "source": [
    "#### This notebook saves a local snapshop of the 9 Livingston PEM channels to disk for faster reading "
   ]
  },
  {
   "cell_type": "code",
   "execution_count": 4,
   "metadata": {},
   "outputs": [
    {
     "name": "stdout",
     "output_type": "stream",
     "text": [
      "0 L1:PEM-CS_MAINSMON_EBAY_1_DQ\n",
      "1 L1:PEM-CS_MAINSMON_EBAY_2_DQ\n",
      "2 L1:PEM-CS_MAINSMON_EBAY_3_DQ\n",
      "3 L1:PEM-CS_MIC_LVEA_INPUTOPTICS_DQ\n",
      "4 L1:PEM-EY_ACC_BEAMTUBE_MAN_Y_DQ\n",
      "5 L1:PEM-EY_MAINSMON_EBAY_1_DQ\n",
      "6 L1:PEM-EY_MIC_VEA_PLUSY_DQ\n",
      "7 L1:PEM-EY_VAULT_MAG_LEMI_X_DQ\n",
      "8 L1:PEM-EY_VAULT_MAG_LEMI_Y_DQ\n"
     ]
    }
   ],
   "source": [
    "pem_channels = ['L1:PEM-CS_MAINSMON_EBAY_1_DQ',   \n",
    "                 'L1:PEM-CS_MAINSMON_EBAY_2_DQ',\n",
    "                 'L1:PEM-CS_MAINSMON_EBAY_3_DQ',\n",
    "                 'L1:PEM-CS_MIC_LVEA_INPUTOPTICS_DQ',\n",
    "                 'L1:PEM-EY_ACC_BEAMTUBE_MAN_Y_DQ',\n",
    "                 'L1:PEM-EY_MAINSMON_EBAY_1_DQ',\n",
    "                 'L1:PEM-EY_MIC_VEA_PLUSY_DQ',\n",
    "                 'L1:PEM-EY_VAULT_MAG_LEMI_X_DQ',\n",
    "                 'L1:PEM-EY_VAULT_MAG_LEMI_Y_DQ'\n",
    "]\n",
    "\n",
    "\n",
    "#Selelct some times from the O3 segments\n",
    "df = pd.read_csv('../../data/L1-O3a-segments.csv',header=None)\n",
    "i = 0\n",
    "t0 = df.iloc[i][0]\n",
    "t1 = t0 + (10*60)# 10 mins later\n",
    "\n",
    "\n",
    "#Load the pem data and get the coherence w.r.t the strain channel\n",
    "for i in range(len(pem_channels)):\n",
    "\n",
    "\n",
    "    pem = pem_channels[i]\n",
    "    print(i, pem)\n",
    "    acc   = TimeSeries.get(pem,start=t0, end=t1,host='losc-nds.ligo.org')\n",
    "\n",
    "    acc.write(f'../../data/pem_channels/{pem}.txt')\n",
    "\n"
   ]
  },
  {
   "cell_type": "code",
   "execution_count": null,
   "metadata": {},
   "outputs": [],
   "source": []
  }
 ],
 "metadata": {
  "kernelspec": {
   "display_name": "LIGO_ANC",
   "language": "python",
   "name": "python3"
  },
  "language_info": {
   "codemirror_mode": {
    "name": "ipython",
    "version": 3
   },
   "file_extension": ".py",
   "mimetype": "text/x-python",
   "name": "python",
   "nbconvert_exporter": "python",
   "pygments_lexer": "ipython3",
   "version": "3.9.16"
  },
  "orig_nbformat": 4
 },
 "nbformat": 4,
 "nbformat_minor": 2
}
