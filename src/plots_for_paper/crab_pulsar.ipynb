{
 "cells": [
  {
   "cell_type": "code",
   "execution_count": 2,
   "metadata": {},
   "outputs": [],
   "source": [
    "from psrqpy import QueryATNF\n",
    "import numpy as np \n",
    "\n",
    "\n",
    "psr_names = [\"B0531+21\"]\n",
    "selected_cols = ['Name','JNAME', 'RAJD', 'DECJD','F0','F1','Dist']\n",
    "query = QueryATNF(params=selected_cols, psrs=psr_names)\n",
    "df=query.pandas #make it a df\n",
    "\n",
    "#Define two extra cols, positions in radians\n",
    "df[\"dec_radians\"] = np.deg2rad(df['DECJD'])\n",
    "df[\"ra_radians\"] = np.deg2rad(df['RAJD'])\n",
    "\n",
    "#check we have the number of pulsars we expect\n",
    "assert len(df) == len(psr_names) "
   ]
  },
  {
   "cell_type": "code",
   "execution_count": 3,
   "metadata": {},
   "outputs": [
    {
     "data": {
      "text/html": [
       "<div>\n",
       "<style scoped>\n",
       "    .dataframe tbody tr th:only-of-type {\n",
       "        vertical-align: middle;\n",
       "    }\n",
       "\n",
       "    .dataframe tbody tr th {\n",
       "        vertical-align: top;\n",
       "    }\n",
       "\n",
       "    .dataframe thead th {\n",
       "        text-align: right;\n",
       "    }\n",
       "</style>\n",
       "<table border=\"1\" class=\"dataframe\">\n",
       "  <thead>\n",
       "    <tr style=\"text-align: right;\">\n",
       "      <th></th>\n",
       "      <th>NAME</th>\n",
       "      <th>DECJD_ERR</th>\n",
       "      <th>F1_ERR</th>\n",
       "      <th>JNAME</th>\n",
       "      <th>F0</th>\n",
       "      <th>DIST</th>\n",
       "      <th>F1</th>\n",
       "      <th>F0_ERR</th>\n",
       "      <th>RAJD</th>\n",
       "      <th>DECJD</th>\n",
       "      <th>RAJD_ERR</th>\n",
       "      <th>dec_radians</th>\n",
       "      <th>ra_radians</th>\n",
       "    </tr>\n",
       "  </thead>\n",
       "  <tbody>\n",
       "    <tr>\n",
       "      <th>0</th>\n",
       "      <td>J0534+2200</td>\n",
       "      <td>0.000017</td>\n",
       "      <td>2.000000e-15</td>\n",
       "      <td>J0534+2200</td>\n",
       "      <td>29.946923</td>\n",
       "      <td>2.0</td>\n",
       "      <td>-3.775350e-10</td>\n",
       "      <td>0.000001</td>\n",
       "      <td>83.633221</td>\n",
       "      <td>22.014461</td>\n",
       "      <td>0.000021</td>\n",
       "      <td>0.384225</td>\n",
       "      <td>1.459675</td>\n",
       "    </tr>\n",
       "  </tbody>\n",
       "</table>\n",
       "</div>"
      ],
      "text/plain": [
       "         NAME  DECJD_ERR        F1_ERR       JNAME         F0  DIST  \\\n",
       "0  J0534+2200   0.000017  2.000000e-15  J0534+2200  29.946923   2.0   \n",
       "\n",
       "             F1    F0_ERR       RAJD      DECJD  RAJD_ERR  dec_radians  \\\n",
       "0 -3.775350e-10  0.000001  83.633221  22.014461  0.000021     0.384225   \n",
       "\n",
       "   ra_radians  \n",
       "0    1.459675  "
      ]
     },
     "execution_count": 3,
     "metadata": {},
     "output_type": "execute_result"
    }
   ],
   "source": [
    "df "
   ]
  },
  {
   "cell_type": "code",
   "execution_count": 4,
   "metadata": {},
   "outputs": [
    {
     "data": {
      "text/plain": [
       "0    59.893846\n",
       "Name: F0, dtype: float64"
      ]
     },
     "execution_count": 4,
     "metadata": {},
     "output_type": "execute_result"
    }
   ],
   "source": [
    "df[\"F0\"]*2 "
   ]
  },
  {
   "cell_type": "code",
   "execution_count": null,
   "metadata": {},
   "outputs": [],
   "source": []
  }
 ],
 "metadata": {
  "kernelspec": {
   "display_name": "KalmanGW",
   "language": "python",
   "name": "python3"
  },
  "language_info": {
   "codemirror_mode": {
    "name": "ipython",
    "version": 3
   },
   "file_extension": ".py",
   "mimetype": "text/x-python",
   "name": "python",
   "nbconvert_exporter": "python",
   "pygments_lexer": "ipython3",
   "version": "3.10.4"
  }
 },
 "nbformat": 4,
 "nbformat_minor": 2
}
